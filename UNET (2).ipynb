{
  "nbformat": 4,
  "nbformat_minor": 0,
  "metadata": {
    "colab": {
      "provenance": []
    },
    "kernelspec": {
      "name": "python3",
      "display_name": "Python 3"
    },
    "language_info": {
      "name": "python"
    }
  },
  "cells": [
    {
      "cell_type": "code",
      "execution_count": null,
      "metadata": {
        "id": "8ybipew2A3RG"
      },
      "outputs": [],
      "source": [
        "import torch\n",
        "import torch.nn as nn\n",
        "from torch.nn import Sequential\n",
        "import os\n",
        "from PIL import Image\n",
        "from torch.utils.data import Dataset, DataLoader, random_split\n",
        "import torchvision.datasets as datasets\n",
        "import torchvision.transforms as transforms\n",
        "from torchvision.datasets import CIFAR10\n",
        "from torch import optim, nn\n",
        "#from torch.utils.data import DataLoader, random_split\n",
        "from tqdm import tqdm\n",
        "import numpy as np\n"
      ]
    },
    {
      "cell_type": "code",
      "source": [
        "class DoubleConv(nn.Module):\n",
        "  def __init__(self, in_channels, out_channels):\n",
        "    super().__init__()\n",
        "    self.conv_op = nn.Sequential(\n",
        "        nn.Conv2d(in_channels, out_channels, kernel_size = 3, padding = 1),\n",
        "        nn.ReLU(inplace= True),\n",
        "        nn.Conv2d(out_channels, out_channels, kernel_size = 3, padding = 1),\n",
        "        nn.ReLU(inplace= True)\n",
        "    )\n",
        "\n",
        "  def forward(self, x):\n",
        "    return self.conv_op(x)\n"
      ],
      "metadata": {
        "id": "ka4u4kVbBC1B"
      },
      "execution_count": null,
      "outputs": []
    },
    {
      "cell_type": "code",
      "source": [
        "class DownSample(nn.Module):\n",
        "   def __init__(self, in_channels, out_channels):\n",
        "    super().__init__()\n",
        "    self.conv = DoubleConv(in_channels, out_channels)\n",
        "    self.pool = nn.MaxPool2d(kernel_size=2, stride=2)\n",
        "\n",
        "   def forward(self,x):\n",
        "    down  = self.conv(x)\n",
        "    p = self.pool(down)\n",
        "\n",
        "    return down, p\n"
      ],
      "metadata": {
        "id": "9sr7ONb2C_Fe"
      },
      "execution_count": null,
      "outputs": []
    },
    {
      "cell_type": "code",
      "source": [
        "class UpSample(nn.Module):\n",
        "  def __init__(self, in_channels, out_channels):\n",
        "    super().__init__()\n",
        "    self.up = nn.ConvTranspose2d(in_channels, in_channels//2, kernel_size = 2, stride = 2)\n",
        "    self.conv = DoubleConv(in_channels, out_channels)\n",
        "\n",
        "  def forward(self,x1, x2):\n",
        "    x1 = self.up(x1)\n",
        "    x = torch.cat((x1,x2),1)\n",
        "    return self.conv(x)\n",
        "\n"
      ],
      "metadata": {
        "id": "-nfIybJjEhRV"
      },
      "execution_count": null,
      "outputs": []
    },
    {
      "cell_type": "code",
      "source": [
        "class UNet(nn.Module):\n",
        "  def __init__(self, in_channels, num_classes):\n",
        "    super().__init__()\n",
        "    self.down_convolution_1 = DownSample(in_channels, 64)\n",
        "    self.down_convolution_2 = DownSample(64, 128)\n",
        "    self.down_convolution_3 = DownSample(128,256)\n",
        "    self.down_convolution_4= DownSample(256, 512)\n",
        "\n",
        "    self.bottel_neck = DoubleConv(512,1024)\n",
        "\n",
        "    self.up_convolution_1 = UpSample(1024,512)\n",
        "    self.up_convolution_2 = UpSample(512,256)\n",
        "    self.up_convolution_3 = UpSample(256,128)\n",
        "    self.up_convolution_4 = UpSample(128,64)\n",
        "\n",
        "    self.out= nn.Conv2d(in_channels= 64, out_channels = num_classes, kernel_size = 1)\n",
        "\n",
        "  def forward(self, x):\n",
        "    down_1, p1 = self.down_convolution_1(x)\n",
        "    down_2, p2 = self.down_convolution_2(p1)\n",
        "    down_3, p3 = self.down_convolution_3(p2)\n",
        "    down_4, p4 = self.down_convolution_4(p3)\n",
        "\n",
        "    b = self.bottel_neck(p4)\n",
        "\n",
        "    up_1= self.up_convolution_1(b, down_4)\n",
        "    up_2= self.up_convolution_2(up_1, down_3)\n",
        "    up_3= self.up_convolution_3(up_2, down_2)\n",
        "    up_4= self.up_convolution_4(up_3, down_1)\n",
        "\n",
        "    out = self.out(up_4)\n",
        "    return out\n"
      ],
      "metadata": {
        "id": "oLQJAit8Gef9"
      },
      "execution_count": null,
      "outputs": []
    },
    {
      "cell_type": "code",
      "source": [
        "\n",
        "double_conv = DoubleConv(256,256)\n",
        "print(double_conv)\n",
        "input_image = torch.rand((1,3,512,512))\n",
        "model = UNet(3,10)\n",
        "output = model(input_image)\n",
        "print(output.size()) # Expected size:(1,10,512,512)"
      ],
      "metadata": {
        "colab": {
          "base_uri": "https://localhost:8080/"
        },
        "id": "CxUTFyqCR4Ez",
        "outputId": "5116791d-67e3-46d8-ed8d-2b8c13a7ad15"
      },
      "execution_count": null,
      "outputs": [
        {
          "output_type": "stream",
          "name": "stdout",
          "text": [
            "DoubleConv(\n",
            "  (conv_op): Sequential(\n",
            "    (0): Conv2d(256, 256, kernel_size=(3, 3), stride=(1, 1), padding=(1, 1))\n",
            "    (1): ReLU(inplace=True)\n",
            "    (2): Conv2d(256, 256, kernel_size=(3, 3), stride=(1, 1), padding=(1, 1))\n",
            "    (3): ReLU(inplace=True)\n",
            "  )\n",
            ")\n",
            "torch.Size([1, 10, 512, 512])\n"
          ]
        }
      ]
    },
    {
      "cell_type": "code",
      "source": [
        "class CarvanaDataset(Dataset):\n",
        "    def __init__(self, url, test = False, download = True):\n",
        "\n",
        "        self.root_path = \"./carvana_dataset\"  # Local directory to store the dataset\n",
        "        if download:\n",
        "            if not os.path.exists(self.root_path):\n",
        "                os.makedirs(self.root_path)\n",
        "            datasets.utils.download_and_extract_archive(url, download_root=self.root_path, extract_root=self.root_path, filename=url.split('/')[-1], remove_finished=True, md5=None)\n",
        "        if test:\n",
        "            self.images = sorted([root_path+\"/manual_test/\"+i for i in os.listdir(root_path+\"/manual_test/\")])\n",
        "            self.masks = sorted([root_path+\"/manual_test_masks/\"+i for i in os.listdir(root_path+\"/manual_test_masks/\")])\n",
        "        else:\n",
        "            self.images = sorted([root_path+\"/train/\"+i for i in os.listdir(root_path+\"/train/\")])\n",
        "            self.masks = sorted([root_path+\"/train_masks/\"+i for i in os.listdir(root_path+\"/train_masks/\")])\n",
        "\n",
        "        self.transform = transforms.Compose([\n",
        "            transforms.Resize((512, 512)),\n",
        "            transforms.ToTensor()])\n",
        "\n",
        "    def __getitem__(self, index):\n",
        "        img = Image.open(self.images[index]).convert(\"RGB\")\n",
        "        mask = Image.open(self.masks[index]).convert(\"L\")\n",
        "\n",
        "        return self.transform(img), self.transform(mask)\n",
        "\n",
        "    def __len__(self):\n",
        "        return len(self.images)"
      ],
      "metadata": {
        "id": "h_DodTNS1iNo"
      },
      "execution_count": null,
      "outputs": []
    },
    {
      "cell_type": "code",
      "source": [
        "LEARNING_RATE = 3e-4\n",
        "BATCH_SIZE = 32\n",
        "EPOCHS = 2\n",
        "DATA_URL = \"https://www.kaggle.com/c/carvana-image-masking-challenge\"\n",
        "MODEL_SAVE_PATH = \"/content/drive/MyDrive/unet-segmentation/models/unet.pth\"\n",
        "\n",
        "device = \"cuda\" if torch.cuda.is_available() else \"cpu\"\n",
        "train_dataset = CarvanaDataset(DATA_URL)\n",
        "\n",
        "\n",
        "generator = torch.Generator().manual_seed(42)\n",
        "train_dataset, val_dataset = random_split(train_dataset, [0.8, 0.2], generator=generator)\n",
        "\n",
        "train_dataloader = DataLoader(dataset=train_dataset,\n",
        "                            batch_size=BATCH_SIZE,\n",
        "                            shuffle=True)\n",
        "val_dataloader = DataLoader(dataset=val_dataset,\n",
        "                            batch_size=BATCH_SIZE,\n",
        "                            shuffle=True)\n",
        "\n",
        "model = UNet(in_channels=3, num_classes=1).to(device)\n",
        "optimizer = optim.AdamW(model.parameters(), lr=LEARNING_RATE)\n",
        "criterion = nn.BCEWithLogitsLoss()\n",
        "\n",
        "for epoch in tqdm(range(EPOCHS)):\n",
        "    model.train()\n",
        "    train_running_loss = 0\n",
        "    for idx, img_mask in enumerate(tqdm(train_dataloader)):\n",
        "        img = img_mask[0].float().to(device)\n",
        "        mask = img_mask[1].float().to(device)\n",
        "\n",
        "        y_pred = model(img)\n",
        "        optimizer.zero_grad()\n",
        "\n",
        "        loss = criterion(y_pred, mask)\n",
        "        train_running_loss += loss.item()\n",
        "\n",
        "        loss.backward()\n",
        "        optimizer.step()\n",
        "\n",
        "    train_loss = train_running_loss / (idx + 1)\n",
        "\n",
        "    model.eval()\n",
        "    val_running_loss = 0\n",
        "    with torch.no_grad():\n",
        "        for idx, img_mask in enumerate(tqdm(val_dataloader)):\n",
        "            img = img_mask[0].float().to(device)\n",
        "            mask = img_mask[1].float().to(device)\n",
        "\n",
        "            y_pred = model(img)\n",
        "            loss = criterion(y_pred, mask)\n",
        "\n",
        "            val_running_loss += loss.item()\n",
        "\n",
        "        val_loss = val_running_loss / (idx + 1)\n",
        "\n",
        "    print(\"-\"*30)\n",
        "    print(f\"Train Loss EPOCH {epoch+1}: {train_loss:.4f}\")\n",
        "    print(f\"Valid Loss EPOCH {epoch+1}: {val_loss:.4f}\")\n",
        "    print(\"-\"*30)\n",
        "\n",
        "torch.save(model.state_dict(), MODEL_SAVE_PATH)"
      ],
      "metadata": {
        "id": "FfjUNqGUDeN8"
      },
      "execution_count": null,
      "outputs": []
    }
  ]
}